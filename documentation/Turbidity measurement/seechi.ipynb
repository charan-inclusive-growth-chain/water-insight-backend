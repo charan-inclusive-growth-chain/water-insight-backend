{
  "cells": [
    {
      "cell_type": "code",
      "execution_count": 8,
      "metadata": {
        "id": "Nkbw6-bqSyuh"
      },
      "outputs": [],
      "source": [
        "import numpy as np\n",
        "import cv2"
      ]
    },
    {
      "attachments": {},
      "cell_type": "markdown",
      "metadata": {
        "id": "__odf9DrSyum"
      },
      "source": [
        "# Inputs"
      ]
    },
    {
      "cell_type": "code",
      "execution_count": 4,
      "metadata": {
        "id": "7__ngnAJSyuo"
      },
      "outputs": [],
      "source": [
        "W1 = np.array([127, 132, 140]) # Upper White Area [R G B]\n",
        "W2 = np.array([150, 155, 158]) # Lower White Area [R G B]\n",
        "\n",
        "G1 = np.array([190, 190, 191]) # Upper Gray Area [R G B]\n",
        "G2 = np.array([204, 204, 200]) # Lower Gray Area [R G B]\n",
        "\n",
        "B1 = np.array([24, 28, 33]) # Upper Black Area [R G B]\n",
        "B2 = np.array([49, 57, 61]) # Lower Black Area [R G B]\n",
        "\n",
        "depth = np.array([-5 , -15]) # Depths of upper and lower plates\n",
        "\n",
        "Secchi_coefficients = np.array([11.97, -0.7899])\n",
        "Turbidity_coefficients = np.array([1.32, -1.39])\n",
        "TSM_coefficients = np.array([1.2333, 0.6602])   #NOT YET CALIBRATED\n",
        "CDOM_coefficients = np.array([5.2564, -6.1705]) #NOT YET CALIBRATED"
      ]
    },
    {
      "attachments": {},
      "cell_type": "markdown",
      "metadata": {
        "id": "RawUPujTSyup"
      },
      "source": [
        "# Computation of Attenuation"
      ]
    },
    {
      "cell_type": "code",
      "execution_count": 5,
      "metadata": {
        "id": "W2y0AwpRSyup"
      },
      "outputs": [],
      "source": [
        "# Black area correction\n",
        "C1 = (W1-B1)/G1 # Upper Level\n",
        "C2 = (W2-B2)/G2 # Lower Level\n",
        "\n",
        "# Attenuation\n",
        "p = np.polyfit(depth, np.log([C1[0], C2[0]]), 1)\n",
        "K_R = p[0]*100 # Attenuation for Red\n",
        "p = np.polyfit(depth, np.log([C1[1], C2[1]]), 1)\n",
        "K_G = p[0]*100 # Attenuation for Green\n",
        "p = np.polyfit(depth, np.log([C1[2], C2[2]]), 1)\n",
        "K_B = p[0]*100 # Attenuation for Blue"
      ]
    },
    {
      "attachments": {},
      "cell_type": "markdown",
      "metadata": {
        "id": "m73xgxLJSyuq"
      },
      "source": [
        "# Computation of Water Quality"
      ]
    },
    {
      "cell_type": "code",
      "execution_count": 6,
      "metadata": {
        "id": "DPLsC1oTSyur"
      },
      "outputs": [],
      "source": [
        "K_mean_RG = np.mean([K_R, K_G]) # Mean of red and green attenuations\n",
        "\n",
        "SD = (Secchi_coefficients[0]/K_mean_RG) + Secchi_coefficients[1] # Secchi Depth\n",
        "\n",
        "Turb = Turbidity_coefficients[0]*K_R + Turbidity_coefficients[1] # Turbidity\n",
        "\n",
        "cdom_ratio = K_B/K_R\n",
        "\n",
        "CDOM = CDOM_coefficients[0]*cdom_ratio + CDOM_coefficients[1] #Absorption by CDOM at 400 nm\n",
        "\n",
        "TSM = TSM_coefficients[0]*K_R + TSM_coefficients[1] #Total suspended matter"
      ]
    },
    {
      "cell_type": "code",
      "execution_count": 7,
      "metadata": {
        "id": "FBo-GHB5Syur",
        "outputId": "b44a3df0-a478-4a7c-fdc7-0acb21140e8e"
      },
      "outputs": [
        {
          "name": "stdout",
          "output_type": "stream",
          "text": [
            "K_mean_RG:  1.1061186761331885\n",
            "Secchi Depth:  10.031723627082386\n",
            "Turbidity:  -0.1927020114481921\n",
            "cdom_ratio:  1.5893584596870296\n",
            "CDOM:  2.1838038074989035\n",
            "Total Suspended Matter: 1.7788572797582916\n"
          ]
        }
      ],
      "source": [
        "print(\"K_mean_RG: \", K_mean_RG)\n",
        "print(\"Secchi Depth: \", SD)\n",
        "print(\"Turbidity: \", Turb)\n",
        "print(\"cdom_ratio: \", cdom_ratio)\n",
        "print(\"CDOM: \", CDOM)\n",
        "print(\"Total Suspended Matter:\", TSM)"
      ]
    }
  ],
  "metadata": {
    "colab": {
      "provenance": []
    },
    "kernelspec": {
      "display_name": "Python 3.10.2 64-bit",
      "language": "python",
      "name": "python3"
    },
    "language_info": {
      "codemirror_mode": {
        "name": "ipython",
        "version": 3
      },
      "file_extension": ".py",
      "mimetype": "text/x-python",
      "name": "python",
      "nbconvert_exporter": "python",
      "pygments_lexer": "ipython3",
      "version": "3.10.11"
    },
    "orig_nbformat": 4,
    "vscode": {
      "interpreter": {
        "hash": "369f2c481f4da34e4445cda3fffd2e751bd1c4d706f27375911949ba6bb62e1c"
      }
    }
  },
  "nbformat": 4,
  "nbformat_minor": 0
}
